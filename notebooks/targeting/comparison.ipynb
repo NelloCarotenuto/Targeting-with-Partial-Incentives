{
 "cells": [
  {
   "cell_type": "markdown",
   "source": [
    "# Targeting with Partial Incentives\n",
    "\n",
    "Diffusion of influence in social networks is a widely studied phenomenon in contexts that vary from viral marketing to\n",
    "the broader field of social sciences.\n",
    "\n",
    "A problem related to this phenomenon, known as the Target Set Selection, is the one to find the minimum set of nodes to\n",
    "influence in order to cause a cascade in the network, i.e. the minimum number of individuals to influence directly in\n",
    "order to have the whole network influenced indirectly.\n",
    "\n",
    "A variant of this problem is the one in which individuals can be given relatively small incentives to make a decision\n",
    "rather than the full effort needed to actually influence them. This is the Partial Incentives variant and here the goal\n",
    "is to find incentives assignment that minimizes the total cost of influencing the whole network.\n",
    "\n",
    "Both of the above problems have already been studied. This project is an attempt to apply and compare two algorithms\n",
    "known for solving the variant with partial incentives of the problem in a nondeterministic network using the\n",
    "deferred decision principle, which considers edges of the network to be active or inactive based on some probability.\n",
    "\n",
    "## Project structure\n",
    "\n",
    "A few utility modules have been created in [sources](/src) folder to easily interact with the data. Pre-processing\n",
    "tasks, that consist of binding thresholds to nodes and edges as well as randomly remove some of the latter by coin\n",
    "tossing, have been modeled in the [preprocessing](/src/preprocessing) module.\n",
    "\n",
    "The two algorithms used for the test are implemented in the [targeting](/src/targeting) module. The ones picked are\n",
    "[DiscountFrac](https://arxiv.org/abs/1401.7970) by Demaine et al. and [TPI](https://arxiv.org/abs/1611.08687) by\n",
    "Cordasco et al."
   ],
   "metadata": {
    "collapsed": false
   }
  },
  {
   "cell_type": "code",
   "source": [
    "import matplotlib\n",
    "import matplotlib.pyplot as pyplot\n",
    "import numpy\n",
    "import snap\n",
    "\n",
    "from src.preprocessing import data_manager\n",
    "from src.preprocessing import nodes_manager\n",
    "from src.preprocessing import edges_manager\n",
    "from src.preprocessing import edge_pruner\n",
    "\n",
    "from src.targeting import partial_incentives\n",
    "\n",
    "%matplotlib inline"
   ],
   "metadata": {
    "collapsed": false,
    "pycharm": {
     "name": "#%%\n",
     "is_executing": false
    }
   }
  },
  {
   "cell_type": "markdown",
   "source": [
    "## Dataset insights\n",
    "\n",
    "The dataset chosen for the experiment is [wiki-Vote](/src/data/raw) from the\n",
    "[SNAP Dataset Collection](https://snap.stanford.edu/data/), a directed graph collected from Wikipedia administrator\n",
    "elections back in 2008.\n",
    "\n",
    "The dataset is made of about 7 thousands nodes and more than 100 thousands edges. A more in-depth look can be found\n",
    "below."
   ],
   "metadata": {
    "collapsed": false,
    "pycharm": {
     "name": "#%% md\n"
    }
   }
  },
  {
   "cell_type": "code",
   "source": [
    "DATASET = \"wiki-Vote\"\n",
    "\n",
    "graph = data_manager.load_graph(f\"{DATASET}.txt\")\n",
    "\n",
    "print(\"Number of nodes: \", graph.GetNodes())\n",
    "print(\"Number of edges: \", graph.GetEdges())\n",
    "\n",
    "print(\"Maximum degree: \", graph.GetNI(snap.GetMxDegNId(graph)).GetDeg())\n",
    "\n",
    "print(\"Diameter (approximate): \", snap.GetBfsFullDiam(graph, 10))\n",
    "print(\"Triangles: \", snap.GetTriads(graph))\n",
    "print(\"Clustering coefficient: \", snap.GetClustCf(graph))"
   ],
   "metadata": {
    "collapsed": false,
    "pycharm": {
     "name": "#%%\n",
     "is_executing": false
    }
   }
  },
  {
   "cell_type": "markdown",
   "source": [
    "## Experiments settings\n",
    "\n",
    "The deferred decision principle is applied by generating 10 different probabilistic graphs for each node threshold-edge\n",
    "threshold combination.\n",
    "\n",
    "Node thresholds are set with 3 different approaches: constant, degree-proportional and random. Constants are chosen as\n",
    "integers between 2 and 10; degree-proportional thresholds are chosen as fractions of the degree of each node, from 0.1\n",
    "to 0.9 with a 0.1 step; random ones are generated uniformly for each node in the range that goes from 1 to its degree.\n",
    "\n",
    "Edge thresholds to be used to apply the deferred decision principle are chosen in 2 different ways: randomly and\n",
    "degree-proportional. Random thresholds are generated uniformly in the range from 0 to 1 for each edge;\n",
    "degree-proportional ones are applicable only for directed graphs and their value is the inverse of the in-degree of\n",
    "the node the edge points to.\n",
    "\n",
    "Overall we have 3 different approaches to set the threshold of the nodes while 2 are the ways to set it on edges. The\n",
    "total amount of combinations is then 6 while the number of experiments is 19 × 2 × 10 = 380.\n",
    "\n",
    "Due to long computation times it's better to generate the graphs, bind the thresholds to the nodes, prune some of the\n",
    "edges by applying the deferred decision principle and store them to be able to load the results whenever they're needed\n",
    "for analysis.\n",
    "\n",
    "Also, a maximum budget must be defined as the DiscountFrac algorithm uses it to constraint expenses. Using a very large\n",
    "value, however, leads the algorithm to influence the whole network using only as much as needed of it."
   ],
   "metadata": {
    "collapsed": false
   }
  },
  {
   "cell_type": "code",
   "source": [
    "# Components to associate filenames to the graph used to generate them\n",
    "N_MARKER_CONSTANT = \"n-constant-\"\n",
    "N_MARKER_PROPORTIONAL = \"n-proportional-\"\n",
    "N_MARKER_RANDOM = \"n-random-\"\n",
    "\n",
    "E_MARKER_PROPORTIONAL = \"e-proportional-\"\n",
    "E_MARKER_RANDOM = \"e-random-\"\n",
    "\n",
    "# Number of samples to average results among\n",
    "SAMPLES = 10\n",
    "\n",
    "# Node threshold ranges\n",
    "CONSTANT_THRESHOLD_MIN = 2\n",
    "CONSTANT_THRESHOLD_MAX = 10\n",
    "\n",
    "PROPORTIONAL_THRESHOLD_MIN = 0.1\n",
    "PROPORTIONAL_THRESHOLD_MAX = 0.9\n",
    "PROPORTIONAL_THRESHOLD_COUNT = 9\n",
    "\n",
    "# Maximum budget for algorithms that are bounded on the total expense\n",
    "MAX_BUDGET = 2147483648"
   ],
   "metadata": {
    "collapsed": false,
    "pycharm": {
     "name": "#%%\n",
     "is_executing": false
    }
   }
  },
  {
   "cell_type": "markdown",
   "source": [
    "## Results\n",
    "\n",
    "Results are reported for each node-edge threshold combination, so 6 sections follow.\n",
    "\n",
    "Each section has 2 code cells, one to generate the data and the other to average out and plot the relative results.\n",
    "\n",
    "Algorithms performances are plotted in graphs with the total cost computed by each on the y-axis while the x-axis is\n",
    "used for the thresholds. Results of random nodes thresholds however are reported in tables."
   ],
   "metadata": {
    "collapsed": false,
    "pycharm": {
     "name": "#%% md\n"
    }
   }
  },
  {
   "cell_type": "markdown",
   "source": [
    "### Constant node thresholds with degree-proportional edge thresholds\n",
    "\n",
    "Here is the case where node thresholds are set as constants while edges activation thresholds are chosen as proportional\n",
    "to the degree of the node they point to."
   ],
   "metadata": {
    "collapsed": false,
    "pycharm": {
     "name": "#%% md\n"
    }
   }
  },
  {
   "cell_type": "code",
   "source": [
    "for threshold in range(CONSTANT_THRESHOLD_MIN, CONSTANT_THRESHOLD_MAX + 1):\n",
    "    for i in range(SAMPLES):\n",
    "        # Define the file name for the current combination\n",
    "        name = f\"{DATASET} {N_MARKER_CONSTANT}{threshold} {E_MARKER_PROPORTIONAL}{i}\"\n",
    "        \n",
    "        # Compute nodes and edges thresholds\n",
    "        node_thresholds = nodes_manager.constant_thresholds(graph, threshold)\n",
    "        edge_thresholds = edges_manager.degree_proportional_thresholds(graph)\n",
    "        \n",
    "        # Prune edges\n",
    "        probabilistic = edge_pruner.random_prune(graph, edge_thresholds, i)\n",
    "        \n",
    "        # Dump the graph generated and its thresholds\n",
    "        data_manager.store_graph(probabilistic, f\"{name}.graph\")\n",
    "        data_manager.store_node_thresholds(node_thresholds, f\"{name}.node.thresholds\")\n",
    "        \n",
    "        # Compute incentive assignment for each node\n",
    "        tpi_incentives = partial_incentives.tpi(probabilistic, node_thresholds)\n",
    "        data_manager.store_incentives(tpi_incentives, f\"{name}.tpi.incentives\")\n",
    "        \n",
    "        discount_frac_incentives = partial_incentives.discount_frac(probabilistic, node_thresholds, MAX_BUDGET)\n",
    "        data_manager.store_incentives(discount_frac_incentives, f\"{name}.discount.incentives\")"
   ],
   "metadata": {
    "collapsed": false,
    "pycharm": {
     "name": "#%%\n",
     "is_executing": false
    }
   }
  },
  {
   "cell_type": "markdown",
   "source": [
    "Once the files are saved it's possible to see the results by plotting the average cost obtained for the 10 different\n",
    "ways the edges of the original graph have been pruned when applying the deferred decision principle."
   ],
   "metadata": {
    "collapsed": false,
    "pycharm": {
     "name": "#%% md\n"
    }
   }
  },
  {
   "cell_type": "code",
   "source": [
    "thresholds = range(CONSTANT_THRESHOLD_MIN, CONSTANT_THRESHOLD_MAX + 1)\n",
    "tpi = numpy.zeros(CONSTANT_THRESHOLD_MAX - CONSTANT_THRESHOLD_MIN + 1)\n",
    "discount = numpy.zeros(CONSTANT_THRESHOLD_MAX - CONSTANT_THRESHOLD_MIN + 1)\n",
    "\n",
    "for threshold in range(CONSTANT_THRESHOLD_MIN, CONSTANT_THRESHOLD_MAX + 1):\n",
    "    # Track the sum for each threshold\n",
    "    tpi_total = 0\n",
    "    discount_total = 0\n",
    "    \n",
    "    for i in range(SAMPLES):\n",
    "        # Define the file name for the current combination\n",
    "        name = f\"{DATASET} {N_MARKER_CONSTANT}{threshold} {E_MARKER_PROPORTIONAL}{i}\"\n",
    "        \n",
    "        # Load incentives\n",
    "        tpi_incentives = data_manager.load_incentives(f\"{name}.tpi.incentives\")\n",
    "        discount_incentives = data_manager.load_incentives(f\"{name}.discount.incentives\")\n",
    "        \n",
    "        # Compute the total for each algorithm\n",
    "        tpi_total += sum(tpi_incentives.values())\n",
    "        discount_total += sum(discount_incentives.values())\n",
    "    \n",
    "    # Compute the average\n",
    "    tpi[threshold - CONSTANT_THRESHOLD_MIN] = tpi_total / SAMPLES\n",
    "    discount[threshold - CONSTANT_THRESHOLD_MIN] = discount_total / SAMPLES\n",
    "\n",
    "# Plot the results\n",
    "figure, axes = pyplot.subplots()\n",
    "\n",
    "figure.suptitle(\"Constant node thresholds with degree-proportional edge thresholds\")\n",
    "axes.set_xlabel(\"Threshold\")\n",
    "axes.set_ylabel(\"Cost\")\n",
    "\n",
    "axes.plot(thresholds, tpi, \"r\", label=\"TPI\")\n",
    "axes.plot(thresholds, discount, \"b\", label=\"DiscountFrac\")\n",
    "\n",
    "pyplot.show()"
   ],
   "metadata": {
    "collapsed": false,
    "pycharm": {
     "name": "#%%\n",
     "is_executing": false
    }
   }
  },
  {
   "cell_type": "markdown",
   "source": [
    "### Constant node thresholds with random edge thresholds"
   ],
   "metadata": {
    "collapsed": false
   }
  },
  {
   "cell_type": "markdown",
   "source": [
    "### Degree-Proportional node thresholds with degree-proportional edge thresholds"
   ],
   "metadata": {
    "collapsed": false
   }
  },
  {
   "cell_type": "markdown",
   "source": [
    "### Degree-Proportional node thresholds with random edge thresholds"
   ],
   "metadata": {
    "collapsed": false
   }
  },
  {
   "cell_type": "markdown",
   "source": [
    "### Random node thresholds with degree-proportional edge thresholds"
   ],
   "metadata": {
    "collapsed": false
   }
  },
  {
   "cell_type": "markdown",
   "source": [
    "### Random node thresholds with random edge thresholds"
   ],
   "metadata": {
    "collapsed": false
   }
  }
 ],
 "metadata": {
  "language_info": {
   "codemirror_mode": {
    "name": "ipython",
    "version": 2
   },
   "file_extension": ".py",
   "mimetype": "text/x-python",
   "name": "python",
   "nbconvert_exporter": "python",
   "pygments_lexer": "ipython2",
   "version": "2.7.6"
  },
  "kernelspec": {
   "name": "python3",
   "language": "python",
   "display_name": "Python 3"
  },
  "pycharm": {
   "stem_cell": {
    "cell_type": "raw",
    "source": [],
    "metadata": {
     "collapsed": false
    }
   }
  }
 },
 "nbformat": 4,
 "nbformat_minor": 0
}